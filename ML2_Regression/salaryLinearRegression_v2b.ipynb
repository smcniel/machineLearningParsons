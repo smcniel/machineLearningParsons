{
 "cells": [
  {
   "cell_type": "code",
   "execution_count": 1,
   "metadata": {
    "collapsed": true
   },
   "outputs": [],
   "source": [
    "import numpy as np\n",
    "import pandas as pd\n",
    "import matplotlib.pyplot as plt\n",
    "%matplotlib inline"
   ]
  },
  {
   "cell_type": "code",
   "execution_count": 2,
   "metadata": {
    "collapsed": true
   },
   "outputs": [],
   "source": [
    "sal = pd.read_csv('./data/mergedSalary2.csv')"
   ]
  },
  {
   "cell_type": "code",
   "execution_count": 3,
   "metadata": {
    "collapsed": false
   },
   "outputs": [
    {
     "data": {
      "text/plain": [
       "(2222, 121)"
      ]
     },
     "execution_count": 3,
     "metadata": {},
     "output_type": "execute_result"
    }
   ],
   "source": [
    "sal.shape"
   ]
  },
  {
   "cell_type": "code",
   "execution_count": 4,
   "metadata": {
    "collapsed": true
   },
   "outputs": [],
   "source": [
    "# eliminate rows with missing Y values (NaN)\n",
    "sal['missingSalary'] = pd.isnull(sal['salary'])\n",
    "sal2 = sal[(sal.missingSalary == False)]"
   ]
  },
  {
   "cell_type": "code",
   "execution_count": 5,
   "metadata": {
    "collapsed": false
   },
   "outputs": [
    {
     "data": {
      "text/plain": [
       "(2185, 122)"
      ]
     },
     "execution_count": 5,
     "metadata": {},
     "output_type": "execute_result"
    }
   ],
   "source": [
    "sal2.shape"
   ]
  },
  {
   "cell_type": "code",
   "execution_count": 6,
   "metadata": {
    "collapsed": true
   },
   "outputs": [],
   "source": [
    "# list of X vars to include\n",
    "X_numeric_features = ['sup1', 'sup2', 'sup3', 'sup4', 'sup5', 'disabled', 'yearsinposition', \n",
    "                                    'yearsinprofession', 'age', 'cred1', 'cred2', 'inst1', 'inst2', 'inst3', 'inst4', \n",
    "                                    'inst5', 'instbudget', 'instsize', 'median_household_income', 'no_male_hs',\n",
    "                                    'no_female_hs', 'no_hs', 'at_least_hs_male', 'at_least_hs_female',\n",
    "                                    'at_least_hs', 'hs_some_college_male', 'hs_some_college_female',\n",
    "                                    'hs_some_college', 'bachelors_male', 'bachelors_female', 'bachelors',\n",
    "                                    'at_least_bach_male', 'at_least_bach_female', 'at_least_bach',\n",
    "                                    'graduate_male', 'graduate_female', 'graduate', 'hispanic', 'white',\n",
    "                                    'black', 'native_american', 'asian_api', 'two_race_or_more',\n",
    "                                    'asian_api_total', 'latino_total', 'white_total', 'native_american_total',\n",
    "                                    'two_race_or_more_total', 'male_unemployment', 'female_unemployment',\n",
    "                                    'renter', 'owner', 'median_rent', 'Sex.by.Age..Male.',\n",
    "                                    'Sex.by.Age..Male..Under.5.years', 'Sex.by.Age..Male..5.to.9.years',\n",
    "                                    'Sex.by.Age..Male..10.to.14.years', 'Sex.by.Age..Male..15.to.17.years',\n",
    "                                    'Sex.by.Age..Male..18.and.19.years', 'Sex.by.Age..Male..20.years',\n",
    "                                    'Sex.by.Age..Male..21.years', 'Sex.by.Age..Male..22.to.24.years',\n",
    "                                    'Sex.by.Age..Male..25.to.29.years', 'Sex.by.Age..Male..30.to.34.years',\n",
    "                                    'Sex.by.Age..Male..35.to.39.years', 'Sex.by.Age..Male..40.to.44.years',\n",
    "                                    'Sex.by.Age..Male..45.to.49.years', 'Sex.by.Age..Male..50.to.54.years',\n",
    "                                    'Sex.by.Age..Male..55.to.59.years', 'Sex.by.Age..Male..60.and.61.years',\n",
    "                                    'Sex.by.Age..Male..62.to.64.years', 'Sex.by.Age..Male..65.and.66.years',\n",
    "                                    'Sex.by.Age..Male..67.to.69.years', 'Sex.by.Age..Male..70.to.74.years',\n",
    "                                    'Sex.by.Age..Male..75.to.79.years', 'Sex.by.Age..Male..80.to.84.years',\n",
    "                                    'Sex.by.Age..Male..85.years.and.over', 'Sex.by.Age..Female.',\n",
    "                                    'Sex.by.Age..Female..Under.5.years', 'Sex.by.Age..Female..5.to.9.years',\n",
    "                                    'Sex.by.Age..Female..10.to.14.years', 'Sex.by.Age..Female..15.to.17.years', \n",
    "                                    'Sex.by.Age..Female..18.and.19.years', 'Sex.by.Age..Female..20.years',\n",
    "                                    'Sex.by.Age..Female..22.to.24.years', 'Sex.by.Age..Female..25.to.29.years',\n",
    "                                    'Sex.by.Age..Female..30.to.34.years', 'Sex.by.Age..Female..35.to.39.years',\n",
    "                                    'Sex.by.Age..Female..40.to.44.years', 'Sex.by.Age..Female..45.to.49.years',\n",
    "                                    'Sex.by.Age..Female..50.to.54.years', 'Sex.by.Age..Female..55.to.59.years',\n",
    "                                    'Sex.by.Age..Female..60.and.61.years', 'Sex.by.Age..Female..62.to.64.years',\n",
    "                                    'Sex.by.Age..Female..65.and.66.years', 'Sex.by.Age..Female..67.to.69.years',\n",
    "                                    'Sex.by.Age..Female..70.to.74.years', 'Sex.by.Age..Female..75.to.79.years',\n",
    "                                    'Sex.by.Age..Female..80.to.84.years', 'Sex.by.Age..Female..85.years.and.over',\n",
    "                                    'full_time', 'part_time', 'foreign_born', 'US_born', 'married', 'divorced',\n",
    "                                    'poverty']\n",
    "X_numeric = sal2[X_numeric_features]\n",
    "X_categorical_features = ['function', 'gender', 'race', 'highestdegree', 'category', 'insttype']\n",
    "X_categorical = sal2[X_categorical_features]"
   ]
  },
  {
   "cell_type": "code",
   "execution_count": 7,
   "metadata": {
    "collapsed": true
   },
   "outputs": [],
   "source": [
    "# create dummy variables for each of the categorical features\n",
    "# DOC: http://pandas.pydata.org/pandas-docs/stable/generated/pandas.get_dummies.html\n",
    "\n",
    "function_dummies = pd.get_dummies(X_categorical['function'])\n",
    "gender_dummies = pd.get_dummies(X_categorical['gender'])\n",
    "race_dummies = pd.get_dummies(X_categorical['race'])\n",
    "highestDegree_dummies = pd.get_dummies(X_categorical['highestdegree'])\n",
    "category_dummies = pd.get_dummies(X_categorical['category'])\n",
    "instType_dummies = pd.get_dummies(X_categorical['insttype'])\n",
    "\n",
    "# convert to ndarray\n",
    "X_dummy_features = pd.concat([function_dummies, gender_dummies, race_dummies, highestDegree_dummies, \n",
    "                              category_dummies, instType_dummies], axis=1)"
   ]
  },
  {
   "cell_type": "code",
   "execution_count": 8,
   "metadata": {
    "collapsed": true
   },
   "outputs": [],
   "source": [
    "# impute missing values in numerical features\n",
    "# DOC: http://scikit-learn.org/stable/modules/preprocessing.html\n",
    "\n",
    "from sklearn.preprocessing import Imputer\n",
    "imp = Imputer()\n",
    "imp.fit(X_numeric)\n",
    "X_numeric_imputed = imp.transform(X_numeric)"
   ]
  },
  {
   "cell_type": "code",
   "execution_count": 9,
   "metadata": {
    "collapsed": true
   },
   "outputs": [],
   "source": [
    "X = np.concatenate((X_dummy_features, X_numeric_imputed), axis=1)"
   ]
  },
  {
   "cell_type": "code",
   "execution_count": 10,
   "metadata": {
    "collapsed": false
   },
   "outputs": [
    {
     "data": {
      "text/html": [
       "<div>\n",
       "<table border=\"1\" class=\"dataframe\">\n",
       "  <thead>\n",
       "    <tr style=\"text-align: right;\">\n",
       "      <th></th>\n",
       "      <th>Unnamed: 0</th>\n",
       "      <th>zip</th>\n",
       "      <th>function</th>\n",
       "      <th>sup1</th>\n",
       "      <th>sup2</th>\n",
       "      <th>sup3</th>\n",
       "      <th>sup4</th>\n",
       "      <th>sup5</th>\n",
       "      <th>salary</th>\n",
       "      <th>gender</th>\n",
       "      <th>...</th>\n",
       "      <th>Sex.by.Age..Female..80.to.84.years</th>\n",
       "      <th>Sex.by.Age..Female..85.years.and.over</th>\n",
       "      <th>full_time</th>\n",
       "      <th>part_time</th>\n",
       "      <th>foreign_born</th>\n",
       "      <th>US_born</th>\n",
       "      <th>married</th>\n",
       "      <th>divorced</th>\n",
       "      <th>poverty</th>\n",
       "      <th>missingSalary</th>\n",
       "    </tr>\n",
       "  </thead>\n",
       "  <tbody>\n",
       "    <tr>\n",
       "      <th>0</th>\n",
       "      <td>1</td>\n",
       "      <td>1003</td>\n",
       "      <td>position1</td>\n",
       "      <td>4</td>\n",
       "      <td>4</td>\n",
       "      <td>0</td>\n",
       "      <td>0</td>\n",
       "      <td>0</td>\n",
       "      <td>77308.0</td>\n",
       "      <td>M</td>\n",
       "      <td>...</td>\n",
       "      <td>7634</td>\n",
       "      <td>10247</td>\n",
       "      <td>68.4447</td>\n",
       "      <td>31.5553</td>\n",
       "      <td>8.83443</td>\n",
       "      <td>91.16557</td>\n",
       "      <td>42.023943</td>\n",
       "      <td>10.485747</td>\n",
       "      <td>16.801532</td>\n",
       "      <td>False</td>\n",
       "    </tr>\n",
       "    <tr>\n",
       "      <th>1</th>\n",
       "      <td>2</td>\n",
       "      <td>1003</td>\n",
       "      <td>position15</td>\n",
       "      <td>0</td>\n",
       "      <td>2</td>\n",
       "      <td>0</td>\n",
       "      <td>60</td>\n",
       "      <td>0</td>\n",
       "      <td>38120.0</td>\n",
       "      <td>M</td>\n",
       "      <td>...</td>\n",
       "      <td>7634</td>\n",
       "      <td>10247</td>\n",
       "      <td>68.4447</td>\n",
       "      <td>31.5553</td>\n",
       "      <td>8.83443</td>\n",
       "      <td>91.16557</td>\n",
       "      <td>42.023943</td>\n",
       "      <td>10.485747</td>\n",
       "      <td>16.801532</td>\n",
       "      <td>False</td>\n",
       "    </tr>\n",
       "  </tbody>\n",
       "</table>\n",
       "<p>2 rows × 122 columns</p>\n",
       "</div>"
      ],
      "text/plain": [
       "   Unnamed: 0   zip    function  sup1  sup2  sup3  sup4  sup5   salary gender  \\\n",
       "0           1  1003   position1     4     4     0     0     0  77308.0      M   \n",
       "1           2  1003  position15     0     2     0    60     0  38120.0      M   \n",
       "\n",
       "       ...       Sex.by.Age..Female..80.to.84.years  \\\n",
       "0      ...                                     7634   \n",
       "1      ...                                     7634   \n",
       "\n",
       "  Sex.by.Age..Female..85.years.and.over  full_time  part_time  foreign_born  \\\n",
       "0                                 10247    68.4447    31.5553       8.83443   \n",
       "1                                 10247    68.4447    31.5553       8.83443   \n",
       "\n",
       "    US_born    married   divorced    poverty  missingSalary  \n",
       "0  91.16557  42.023943  10.485747  16.801532          False  \n",
       "1  91.16557  42.023943  10.485747  16.801532          False  \n",
       "\n",
       "[2 rows x 122 columns]"
      ]
     },
     "execution_count": 10,
     "metadata": {},
     "output_type": "execute_result"
    }
   ],
   "source": [
    "sal2.head(2)"
   ]
  },
  {
   "cell_type": "code",
   "execution_count": 11,
   "metadata": {
    "collapsed": true
   },
   "outputs": [],
   "source": [
    "# y is salary\n",
    "y = sal2.loc[:, ['salary']].values"
   ]
  },
  {
   "cell_type": "code",
   "execution_count": 15,
   "metadata": {
    "collapsed": false
   },
   "outputs": [
    {
     "data": {
      "text/plain": [
       "array([[ 77308.],\n",
       "       [ 38120.],\n",
       "       [ 55335.],\n",
       "       [ 70863.],\n",
       "       [ 56557.],\n",
       "       [ 48489.],\n",
       "       [ 55557.],\n",
       "       [ 38120.],\n",
       "       [ 40500.],\n",
       "       [ 40500.]])"
      ]
     },
     "execution_count": 15,
     "metadata": {},
     "output_type": "execute_result"
    }
   ],
   "source": [
    "y[0:10]"
   ]
  },
  {
   "cell_type": "code",
   "execution_count": 16,
   "metadata": {
    "collapsed": false
   },
   "outputs": [
    {
     "data": {
      "text/plain": [
       "0"
      ]
     },
     "execution_count": 16,
     "metadata": {},
     "output_type": "execute_result"
    }
   ],
   "source": [
    "# check imputed values\n",
    "np.isnan(X_numeric_imputed).sum()"
   ]
  },
  {
   "cell_type": "code",
   "execution_count": 17,
   "metadata": {
    "collapsed": true
   },
   "outputs": [],
   "source": [
    "# keep track of variance on test data, to graph\n",
    "var_to_graph = {}\n",
    "# bring residual sum of squares from regression1.ipynb\n",
    "var_to_graph['simpReg'] = 265376883.08"
   ]
  },
  {
   "cell_type": "code",
   "execution_count": 18,
   "metadata": {
    "collapsed": true
   },
   "outputs": [],
   "source": [
    "# create training and test sets for linear regression\n",
    "from sklearn.cross_validation import train_test_split\n",
    "\n",
    "X_train, X_test, y_train, y_test = train_test_split(\n",
    "         X, y, test_size=0.3, random_state=0)"
   ]
  },
  {
   "cell_type": "code",
   "execution_count": 19,
   "metadata": {
    "collapsed": true
   },
   "outputs": [],
   "source": [
    "# import models for Ridge, Lasso, Linear Regression\n",
    "from sklearn import datasets, linear_model\n",
    "# import for polynomial fitting\n",
    "from sklearn.preprocessing import PolynomialFeatures"
   ]
  },
  {
   "cell_type": "code",
   "execution_count": 20,
   "metadata": {
    "collapsed": false
   },
   "outputs": [
    {
     "name": "stdout",
     "output_type": "stream",
     "text": [
      "Intercept: \n",
      " [-379632.41650789]\n",
      "Coefficients: \n",
      " [[  7.99987077e+01  -1.11186472e+04  -1.43584495e+04  -1.47122545e+04\n",
      "   -8.02352502e+03  -5.99690880e+03  -1.35935160e+04  -1.56104409e+04\n",
      "   -1.21949106e+04  -5.92698519e+03  -1.02152663e+04  -6.94027011e+03\n",
      "   -1.50243194e+04  -1.64154944e+04  -1.18389772e+04  -1.53954352e+04\n",
      "   -1.32077126e+04  -1.64061768e+04  -1.58796997e+04  -1.37026993e+04\n",
      "   -6.56021133e+03  -6.79141616e+03  -1.24218624e+04  -1.03562255e+04\n",
      "   -1.30891246e+04  -1.15304917e+04  -1.16450332e+04  -1.43573902e+04\n",
      "   -2.24091883e+03  -3.81343271e+03   2.40106535e+03   5.67985001e+03\n",
      "    3.43284369e+03   5.30703006e+03   6.87732441e+02   1.30735692e+04\n",
      "    5.69981087e+03   2.33042824e+03   5.08529982e+03   1.63628802e+04\n",
      "    9.18466012e+03  -2.66656435e+03  -1.14786267e+03   1.14786268e+03\n",
      "    8.05321871e+03   6.19608480e+03   1.74063024e+03   5.18617220e+02\n",
      "    1.07946020e+02  -3.23500654e+00   1.03955875e+01   1.70561561e+03\n",
      "    5.16326823e+01   3.36548779e+02   2.40755456e+02   2.51996796e+03\n",
      "    2.43894116e+02   8.86084638e+01   3.24700525e+01  -3.68180435e+01\n",
      "    3.46686389e+00  -3.00737394e+01   8.79122308e-05   1.27480017e-01\n",
      "    4.50474208e-01   1.17018056e+04   1.27103533e+04  -2.46122703e+04\n",
      "   -1.17018056e+04  -1.27103533e+04   2.46122703e+04  -3.22249865e+03\n",
      "   -2.44653426e+03   5.57900514e+03  -3.94285542e+03  -4.19127279e+03\n",
      "    7.93674874e+03   3.37142533e+02   6.95241534e+02  -1.13635832e+03\n",
      "    4.27999796e+03   4.88651433e+03  -9.07310706e+03   4.32995540e+03\n",
      "    4.32167114e+03   4.12377800e+03   4.18147345e+03   3.71772163e+03\n",
      "    4.17915483e+03   7.32301780e-03  -1.05315898e-02  -6.35880438e-04\n",
      "   -2.18722467e-01   3.85581199e-02  -7.45697929e+01  -3.58326474e+02\n",
      "   -1.17076396e+02   1.17076396e+02  -8.57488900e-01   5.26683704e-01\n",
      "   -1.41309186e+00   4.23017422e+00   4.79095956e+00  -4.18244413e-01\n",
      "   -2.52995132e+00  -1.03272297e+00   1.12604856e+00   4.81716736e-01\n",
      "   -3.36700879e-01  -1.06119078e+00   1.68464915e+00  -3.49884815e-01\n",
      "   -1.33104536e+00  -3.04801168e+00   8.75882505e-02   1.04643802e+00\n",
      "    3.92079286e+00  -8.68418689e-01  -6.76243853e-01  -2.08480828e+00\n",
      "   -1.62116822e+00  -4.62062008e-01   3.93739583e-01  -2.49002901e-01\n",
      "    8.50580244e-01  -5.16041006e+00  -4.27068200e+00   7.65809373e-01\n",
      "    1.37215532e+00  -1.13877194e+00  -1.01153242e+00   1.28748883e+00\n",
      "   -1.50555563e+00  -9.54410296e-02  -6.03219304e-01   1.81203797e+00\n",
      "    2.70608334e+00  -2.32560035e+00  -1.65207970e+00  -1.19962793e+00\n",
      "    2.38103567e-01   8.77540313e-01   2.30694628e+00   1.38054128e-01\n",
      "    3.86367402e-01  -6.52337754e-01   8.86491676e+01  -8.86491675e+01\n",
      "    1.49669155e+02  -1.49669155e+02  -8.37473488e+02  -7.33226354e+02\n",
      "    2.37222190e+02]]\n",
      "Residual sum of squares, training data: 70711709.12\n",
      "Residual sum of squares, test data: 89790670.42\n",
      "Variance score, training data: 0.78\n",
      "Distribution of prediction error on training data:\n"
     ]
    },
    {
     "data": {
      "image/png": "[encoded data removed]",
      "text/plain": [
       "<matplotlib.figure.Figure at 0x11c8b8f98>"
      ]
     },
     "metadata": {},
     "output_type": "display_data"
    },
    {
     "name": "stdout",
     "output_type": "stream",
     "text": [
      "Distribution of prediction error on test data:\n"
     ]
    },
    {
     "data": {
      "image/png": "[encoded data removed]",
      "text/plain": [
       "<matplotlib.figure.Figure at 0x11c8ac5f8>"
      ]
     },
     "metadata": {},
     "output_type": "display_data"
    }
   ],
   "source": [
    "# Create linear regression object\n",
    "regr = linear_model.LinearRegression()\n",
    "\n",
    "# Train the model using the training sets\n",
    "X_train_no_intercept = X_train\n",
    "X_train = X_train.reshape(-1, X_train.shape[1])\n",
    "regr.fit(X_train, y_train)\n",
    "\n",
    "# Create residual plot to check for non random patterns in errors\n",
    "# This checks for things like multicollinearity\n",
    "# y_train_pred = regr.predict(X_train)\n",
    "# y_test_pred = regr.predict(X_test)\n",
    "\n",
    "# plt.scatter(y_train_pred, y_train_pred - y_train, c='blue', marker='o', label='Training data')\n",
    "# plt.scatter(y_test_pred, y_test_pred - y_test, c='lightgreen', marker='s', label='Test data')\n",
    "# plt.xlabel('Predicted values')\n",
    "# plt.ylabel('Residuals')\n",
    "# plt.legend(loc='uppper left')\n",
    "# plt.hlines(y=0, xmin=-10, xmax=50, lw=2, color='red')\n",
    "# plt.xlim([-10, 50])\n",
    "# plt.show()\n",
    "\n",
    "# The intercept\n",
    "print('Intercept: \\n', regr.intercept_)\n",
    "# The coefficients\n",
    "print('Coefficients: \\n', regr.coef_)\n",
    "# The mean square error\n",
    "print(\"Residual sum of squares, training data: %.2f\"\n",
    "      % np.mean((regr.predict(X_train) - y_train) ** 2))\n",
    "print(\"Residual sum of squares, test data: %.2f\"\n",
    "      % np.mean((regr.predict(X_test) - y_test) ** 2))\n",
    "var_to_graph['multReg_linear'] = np.mean((regr.predict(X_test) - y_test) ** 2)\n",
    "\n",
    "\n",
    "# Explained variance score: 1 is perfect prediction\n",
    "print('Variance score, training data: %.2f' % regr.score(X_train, y_train))\n",
    "\n",
    "# More accurate variance score generated from the adjusted R-squared\n",
    "# Every time a predictor is added to the model, the R-squared increases no matter what\n",
    "# Adjusted R-squared takes into account number of predictor variables P\n",
    "# and number of observations N\n",
    "# to do: add adj score\n",
    "\n",
    "#vector of prediction error\n",
    "print('Distribution of prediction error on training data:')\n",
    "predError = regr.predict(X_train) - y_train\n",
    "plt.hist(predError)\n",
    "plt.show()\n",
    "\n",
    "print('Distribution of prediction error on test data:')\n",
    "predError = regr.predict(X_test) - y_test\n",
    "plt.hist(predError)\n",
    "plt.show()"
   ]
  },
  {
   "cell_type": "code",
   "execution_count": 21,
   "metadata": {
    "collapsed": false
   },
   "outputs": [],
   "source": [
    "# create training and test sets for polynomial linear regression\n",
    "from sklearn.cross_validation import train_test_split\n",
    "\n",
    "poly = PolynomialFeatures(2)\n",
    "X_poly = poly.fit_transform(X)\n",
    "\n",
    "X_train, X_test, y_train, y_test = train_test_split(\n",
    "         X_poly, y, test_size=0.3, random_state=0)\n"
   ]
  },
  {
   "cell_type": "code",
   "execution_count": 22,
   "metadata": {
    "collapsed": false
   },
   "outputs": [
    {
     "name": "stdout",
     "output_type": "stream",
     "text": [
      "Intercept: \n",
      " [-112162.54339358]\n",
      "Coefficients: \n",
      " [[   89.10364283  7402.55157769  6125.7686404  ...,    41.03348194\n",
      "     53.33820776   -16.27115801]]\n",
      "Residual sum of squares, training data: 0.00\n",
      "Residual sum of squares, test data: 20288367896.33\n",
      "Variance score, training data: 1.00\n",
      "Distribution of prediction error on training data:\n"
     ]
    },
    {
     "data": {
      "image/png": "[encoded data removed]",
      "text/plain": [
       "<matplotlib.figure.Figure at 0x11c9a2b70>"
      ]
     },
     "metadata": {},
     "output_type": "display_data"
    },
    {
     "name": "stdout",
     "output_type": "stream",
     "text": [
      "Distribution of prediction error on test data:\n"
     ]
    },
    {
     "data": {
      "image/png": "[encoded data removed]",
      "text/plain": [
       "<matplotlib.figure.Figure at 0x11c996630>"
      ]
     },
     "metadata": {},
     "output_type": "display_data"
    }
   ],
   "source": [
    "## POLYNOMINAL \n",
    "\n",
    "\n",
    "# Create linear regression object\n",
    "poly = linear_model.LinearRegression(normalize=True)\n",
    "\n",
    "# Train the model using the training sets\n",
    "X_train_no_intercept = X_train\n",
    "X_train = X_train.reshape(-1, X_train.shape[1])\n",
    "poly.fit(X_train, y_train)\n",
    "\n",
    "# Create residual plot \n",
    "# y_train_pred = poly.predict(X_train)\n",
    "# y_test_pred = poly.predict(X_test)\n",
    "\n",
    "# plt.scatter(y_train_pred, y_train_pred - y_train, c='blue', marker='o', label='Training data')\n",
    "# plt.scatter(y_test_pred, y_test_pred - y_test, c='lightgreen', marker='s', label='Test data')\n",
    "# plt.xlabel('Predicted values')\n",
    "# plt.ylabel('Residuals')\n",
    "# plt.legend(loc='uppper left')\n",
    "# plt.hlines(y=0, xmin=-10, xmax=50, lw=2, color='red')\n",
    "# plt.xlim([-10, 50])\n",
    "# plt.show()\n",
    "\n",
    "# The intercept\n",
    "print('Intercept: \\n', poly.intercept_)\n",
    "# The coefficients\n",
    "print('Coefficients: \\n', poly.coef_)\n",
    "# The mean square error\n",
    "print(\"Residual sum of squares, training data: %.2f\"\n",
    "      % np.mean((poly.predict(X_train) - y_train) ** 2))\n",
    "print(\"Residual sum of squares, test data: %.2f\"\n",
    "      % np.mean((poly.predict(X_test) - y_test) ** 2))\n",
    "var_to_graph['multReg_poly'] = np.mean((poly.predict(X_test) - y_test) ** 2)\n",
    "# Explained variance score: 1 is perfect prediction\n",
    "print('Variance score, training data: %.2f' % poly.score(X_train, y_train))\n",
    "#vector of prediction error\n",
    "print('Distribution of prediction error on training data:')\n",
    "predError = poly.predict(X_train) - y_train\n",
    "plt.hist(predError)\n",
    "plt.show()\n",
    "\n",
    "print('Distribution of prediction error on test data:')\n",
    "predError = poly.predict(X_test) - y_test\n",
    "plt.hist(predError)\n",
    "plt.show()"
   ]
  },
  {
   "cell_type": "code",
   "execution_count": 23,
   "metadata": {
    "collapsed": true
   },
   "outputs": [],
   "source": [
    "# create training and test sets for Ridge regression\n",
    "# Ridge adds additional regularization\n",
    "from sklearn.cross_validation import train_test_split\n",
    "\n",
    "X_train, X_test, y_train, y_test = train_test_split(\n",
    "         X, y, test_size=0.3, random_state=0)"
   ]
  },
  {
   "cell_type": "code",
   "execution_count": 24,
   "metadata": {
    "collapsed": false
   },
   "outputs": [
    {
     "name": "stdout",
     "output_type": "stream",
     "text": [
      "Intercept: \n",
      " [-223981.32884086]\n",
      "Coefficients: \n",
      " [[  9.17662508e+03  -1.48427561e+03  -4.76159231e+03  -5.00586340e+03\n",
      "    1.35474283e+03   3.34130258e+03  -4.03671901e+03  -5.50892822e+03\n",
      "   -2.52039746e+03   2.45682078e+03  -6.25462936e+02   2.21295287e+03\n",
      "   -5.35626127e+03  -6.33276078e+03  -2.33165716e+03  -4.66339564e+03\n",
      "   -3.06485927e+03  -6.94248390e+03  -3.10867838e+03  -4.15500998e+03\n",
      "    1.53209247e+03   2.60500656e+03  -2.90315133e+03  -8.34182389e+02\n",
      "   -3.45023315e+03  -2.12535919e+03  -2.02002206e+03  -4.79250667e+03\n",
      "    1.48512850e+03  -4.70528818e+01  -3.62685344e+02   2.83643681e+03\n",
      "    7.67000354e+02   2.63333038e+03  -1.85859664e+03   8.21473972e+03\n",
      "    2.76217911e+03  -1.15305840e+03   1.58671388e+03   1.23354830e+04\n",
      "    5.76825820e+03  -6.03952688e+03   4.75973734e+02  -4.75973734e+02\n",
      "    5.02212075e+03   2.87071921e+03   1.76907332e+03   5.05921835e+02\n",
      "    1.10938591e+02  -3.79925227e+00   9.74671370e+00   1.73982045e+03\n",
      "    3.36235224e+01   3.57760701e+02   2.40971164e+02   2.69636918e+03\n",
      "    2.81396995e+02   7.67438181e+01   5.06724287e+01  -2.11578802e+01\n",
      "    3.28922626e+00  -2.89834621e+01   1.13764826e-04   1.30962051e-01\n",
      "    3.05533628e-01   7.24381247e+02   8.43266921e+02  -1.80975484e+03\n",
      "   -7.24381248e+02  -8.43266916e+02   1.80975484e+03  -7.65123300e+02\n",
      "   -1.91866337e+02   8.48633551e+02  -6.55753717e+02  -1.07303970e+03\n",
      "    1.41760226e+03  -4.46792794e+02  -3.13015483e+02   6.65756956e+02\n",
      "    2.08960922e+02   7.60024219e+02  -7.51845303e+02   2.82378303e+03\n",
      "    2.75746012e+03   2.64368028e+03   2.62580381e+03   2.07844825e+03\n",
      "    2.97853909e+03   1.67329927e-02  -1.69869374e-03   4.92683083e-03\n",
      "   -2.02345367e-01   4.83922260e-02  -1.13325449e+01  -4.16149800e+02\n",
      "   -1.36735954e+02   1.36735953e+02   7.63785879e-01   5.69774400e-01\n",
      "   -2.14023957e+00   4.56265780e+00   4.87049728e+00   5.55645714e-02\n",
      "   -3.18858614e+00  -1.90403006e-02   1.06318104e+00   9.64026587e-01\n",
      "   -8.59491404e-01  -1.34482866e+00   1.77165480e+00   6.52347835e-03\n",
      "   -1.89655170e+00  -2.51792267e+00  -5.17144725e-01   3.31025202e-01\n",
      "    3.14858236e+00  -4.98480497e-01  -6.21833499e-01  -1.70581337e+00\n",
      "   -1.70476488e+00  -7.72519484e-01   5.76227217e-01  -1.80022796e-01\n",
      "    1.38456604e+00  -5.21698452e+00  -4.98147249e+00   4.68499553e-01\n",
      "    1.80680054e+00  -2.09978625e+00  -1.82512650e+00   1.59861616e+00\n",
      "   -1.33106313e+00  -4.01407743e-01  -8.05158923e-01   1.89218755e+00\n",
      "    2.37438318e+00  -1.56478841e+00  -1.03081549e+00  -9.95009290e-01\n",
      "   -1.67651214e-01   4.28993447e-01   1.69375010e+00   3.35804997e-01\n",
      "    3.94398560e-01  -8.68531759e-01   6.36339172e+01  -6.36339177e+01\n",
      "    1.39239814e+02  -1.39239823e+02  -8.03091104e+02  -7.64226506e+02\n",
      "    4.68303194e+00]]\n",
      "Residual sum of squares, training data: 71264286.94\n",
      "Residual sum of squares, test data: 88930898.41\n",
      "Variance score, training data: 0.78\n",
      "Distribution of prediction error on training data:\n"
     ]
    },
    {
     "data": {
      "image/png": "[encoded data removed]",
      "text/plain": [
       "<matplotlib.figure.Figure at 0x121ee47f0>"
      ]
     },
     "metadata": {},
     "output_type": "display_data"
    },
    {
     "name": "stdout",
     "output_type": "stream",
     "text": [
      "Distribution of prediction error on test data:\n"
     ]
    },
    {
     "data": {
      "image/png": "[encoded data removed]",
      "text/plain": [
       "<matplotlib.figure.Figure at 0x13aea22b0>"
      ]
     },
     "metadata": {},
     "output_type": "display_data"
    }
   ],
   "source": [
    "## RIDGE REGRESSION\n",
    "# DOC: http://scikit-learn.org/stable/modules/generated/sklearn.linear_model.Ridge.html\n",
    "\n",
    "# Create linear regression object\n",
    "ridge_regr = linear_model.Ridge()\n",
    "\n",
    "# Train the model using the training sets\n",
    "X_train_no_intercept = X_train\n",
    "X_train = X_train.reshape(-1, X_train.shape[1])\n",
    "ridge_regr.fit(X_train, y_train)\n",
    "\n",
    "# Create residual plot \n",
    "# y_train_pred = ridge_regr.predict(X_train)\n",
    "# y_test_pred = ridge_regr.predict(X_test)\n",
    "\n",
    "# plt.scatter(y_train_pred, y_train_pred - y_train, c='blue', marker='o', label='Training data')\n",
    "# plt.scatter(y_test_pred, y_test_pred - y_test, c='lightgreen', marker='s', label='Test data')\n",
    "# plt.xlabel('Predicted values')\n",
    "# plt.ylabel('Residuals')\n",
    "# plt.legend(loc='uppper left')\n",
    "# plt.hlines(y=0, xmin=-10, xmax=50, lw=2, color='red')\n",
    "# plt.xlim([-10, 50])\n",
    "# plt.show()\n",
    "\n",
    "# The intercept\n",
    "print('Intercept: \\n', ridge_regr.intercept_)\n",
    "# The coefficients\n",
    "print('Coefficients: \\n', ridge_regr.coef_)\n",
    "# The mean square error\n",
    "print(\"Residual sum of squares, training data: %.2f\"\n",
    "      % np.mean((ridge_regr.predict(X_train) - y_train) ** 2))\n",
    "print(\"Residual sum of squares, test data: %.2f\"\n",
    "      % np.mean((ridge_regr.predict(X_test) - y_test) ** 2))\n",
    "var_to_graph['multReg_ridge'] = np.mean((ridge_regr.predict(X_test) - y_test) ** 2)\n",
    "# Explained variance score: 1 is perfect prediction\n",
    "print('Variance score, training data: %.2f' % ridge_regr.score(X_train, y_train))\n",
    "#vector of prediction error\n",
    "print('Distribution of prediction error on training data:')\n",
    "predError = ridge_regr.predict(X_train) - y_train\n",
    "plt.hist(predError)\n",
    "plt.show()\n",
    "\n",
    "print('Distribution of prediction error on test data:')\n",
    "predError = ridge_regr.predict(X_test) - y_test\n",
    "plt.hist(predError)\n",
    "plt.show()"
   ]
  },
  {
   "cell_type": "code",
   "execution_count": 25,
   "metadata": {
    "collapsed": true
   },
   "outputs": [],
   "source": [
    "# create training and test sets for Lasso model\n",
    "# Ridge adds additional regularization\n",
    "from sklearn.cross_validation import train_test_split\n",
    "\n",
    "X_train, X_test, y_train, y_test = train_test_split(\n",
    "         X, y, test_size=0.3, random_state=0)"
   ]
  },
  {
   "cell_type": "code",
   "execution_count": 26,
   "metadata": {
    "collapsed": false
   },
   "outputs": [
    {
     "name": "stdout",
     "output_type": "stream",
     "text": [
      "Intercept: \n",
      " [ 23728.96941557]\n",
      "Coefficients: \n",
      " [  7.38021632e+02  -1.03467013e+04  -1.35325698e+04  -1.40659438e+04\n",
      "  -7.54631798e+03  -4.48951820e+03  -1.28021670e+04  -1.52966850e+04\n",
      "  -1.13288957e+04  -4.81500343e+03  -9.18789153e+03  -7.20936846e+03\n",
      "  -1.40472754e+04  -1.49625560e+04  -1.12420075e+04  -1.42304602e+04\n",
      "  -1.25167579e+04  -1.60748389e+04  -1.41637601e+04  -1.42205283e+04\n",
      "  -5.02842705e+03  -5.42914820e+03  -1.19067531e+04  -9.83635697e+03\n",
      "  -1.24817240e+04  -1.02055040e+04  -1.05382732e+04  -1.37956058e+04\n",
      "  -2.13962949e+03  -3.66779726e+03   2.62215342e+03   5.45634983e+03\n",
      "   3.46991116e+03   5.08888967e+03   5.69920304e+02   1.22002222e+04\n",
      "   4.77607638e+03   1.77329643e+03   4.75030875e+03   1.53171527e+04\n",
      "   8.89793132e+03  -2.65276113e+03  -1.91126763e+03   1.14921620e-11\n",
      "   8.64974342e+03   7.00419747e+03   1.70158246e+03   5.12396765e+02\n",
      "   4.49135537e+01  -1.65054073e+00   2.50373765e+01   1.18200949e+03\n",
      "   7.69453686e+01   3.27029050e+02   2.36903762e+02   2.98749593e+03\n",
      "   4.08956526e+02   3.74914660e+01   6.80054444e+01   1.01931762e+02\n",
      "   3.13351721e+00  -1.40085298e+01   5.27127296e-05   6.68351178e-02\n",
      "   3.06929513e-01   6.67228243e+02  -5.72102326e+02   1.79799608e+02\n",
      "  -3.70609246e+02   5.43428581e+02  -1.66223815e+02   2.59412942e+02\n",
      "  -3.89705827e+00  -1.83882936e+01   3.45206755e+02  -6.02102439e+02\n",
      "   2.56672679e+02   1.92058465e+02  -1.82463476e+02   1.03775221e+02\n",
      "   1.04152100e+02  -4.71322036e+00   8.01967080e+01   2.72870358e+02\n",
      "   1.54477290e+02   6.32479372e+01   7.46757635e+01   1.76585667e+02\n",
      "   5.67947425e+02  -8.34508855e-03  -1.34124168e-03  -1.72539093e-03\n",
      "   2.09240972e-03   3.36151339e-02  -2.29606956e+02  -7.75645126e+00\n",
      "   4.26363260e+01  -0.00000000e+00   6.79800835e-01   7.74364110e-04\n",
      "  -4.85246156e-02   8.87125212e-02  -3.92396565e-02   4.92862453e-02\n",
      "  -2.62758168e-01   4.55600319e-01  -9.23187523e-02  -2.32655722e-02\n",
      "  -1.86723156e-02   9.05377325e-03   1.14146241e-01   1.28921412e-02\n",
      "  -7.68818121e-02  -3.64401908e-02   4.99508614e-02  -1.22709131e-01\n",
      "   1.60521383e-01  -3.03245908e-01  -2.91106569e-01  -7.84003869e-02\n",
      "  -3.98594673e-01   6.42521779e-01   3.38913837e-01   1.93844244e-03\n",
      "  -1.78469186e-02   3.07830645e-03   8.17325842e-02  -3.62080713e-02\n",
      "  -3.68416920e-01   5.26213205e-01  -1.48943482e-01   5.01280667e-03\n",
      "   4.20694467e-02   9.57602287e-02   1.75033449e-02  -6.57037745e-02\n",
      "  -1.81142927e-02   1.89999041e-02  -1.27375913e-02   1.08488297e-01\n",
      "  -2.83008678e-01  -1.81146532e-02  -6.38522164e-02  -9.84049580e-02\n",
      "   3.43111681e-01   8.87622945e-02  -2.89926786e+02   0.00000000e+00\n",
      "  -8.28727566e+01   1.24102889e-10  -3.99816565e+02  -5.99943890e+02\n",
      "  -3.93870450e+02]\n",
      "Residual sum of squares, training data: 566485107.99\n",
      "Residual sum of squares, test data: 679200968.00\n",
      "Variance score, training data: 0.77\n",
      "Distribution of prediction error on training data:\n"
     ]
    },
    {
     "name": "stderr",
     "output_type": "stream",
     "text": [
      "/Users/charliePro/anaconda/lib/python3.5/site-packages/sklearn/linear_model/coordinate_descent.py:466: ConvergenceWarning: Objective did not converge. You might want to increase the number of iterations\n",
      "  ConvergenceWarning)\n"
     ]
    },
    {
     "data": {
      "image/png": "[encoded data removed]",
      "text/plain": [
       "<matplotlib.figure.Figure at 0x11c9c2f60>"
      ]
     },
     "metadata": {},
     "output_type": "display_data"
    },
    {
     "name": "stdout",
     "output_type": "stream",
     "text": [
      "Distribution of prediction error on test data:\n"
     ]
    },
    {
     "data": {
      "image/png": "[encoded data removed]",
      "text/plain": [
       "<matplotlib.figure.Figure at 0x13af42240>"
      ]
     },
     "metadata": {},
     "output_type": "display_data"
    }
   ],
   "source": [
    "## LASSO\n",
    "# http://scikit-learn.org/stable/modules/generated/sklearn.linear_model.Lasso.html\n",
    "\n",
    "las = linear_model.Lasso(alpha=0.1)\n",
    "\n",
    "# Train the model using the training sets\n",
    "X_train_no_intercept = X_train\n",
    "X_train = X_train.reshape(-1, X_train.shape[1])\n",
    "las.fit(X_train, y_train)\n",
    "\n",
    "# Create residual plot \n",
    "# y_train_pred = las.predict(X_train)\n",
    "# y_test_pred = las.predict(X_test)\n",
    "\n",
    "# plt.scatter(y_train_pred, y_train_pred - y_train, c='blue', marker='o', label='Training data')\n",
    "# plt.scatter(y_test_pred, y_test_pred - y_test, c='lightgreen', marker='s', label='Test data')\n",
    "# plt.xlabel('Predicted values')\n",
    "# plt.ylabel('Residuals')\n",
    "# plt.legend(loc='uppper left')\n",
    "# plt.hlines(y=0, xmin=-10, xmax=50, lw=2, color='red')\n",
    "# plt.xlim([-10, 50])\n",
    "# plt.show()\n",
    "\n",
    "# The intercept\n",
    "print('Intercept: \\n', las.intercept_)\n",
    "# The coefficients\n",
    "print('Coefficients: \\n', las.coef_)\n",
    "# The mean square error\n",
    "print(\"Residual sum of squares, training data: %.2f\"\n",
    "      % np.mean((las.predict(X_train) - y_train) ** 2))\n",
    "print(\"Residual sum of squares, test data: %.2f\"\n",
    "      % np.mean((las.predict(X_test) - y_test) ** 2))\n",
    "var_to_graph['multReg_ridge'] = np.mean((las.predict(X_test) - y_test) ** 2)\n",
    "# Explained variance score: 1 is perfect prediction\n",
    "print('Variance score, training data: %.2f' % las.score(X_train, y_train))\n",
    "#vector of prediction error\n",
    "print('Distribution of prediction error on training data:')\n",
    "predError = las.predict(X_train) - y_train\n",
    "plt.hist(predError)\n",
    "plt.show()\n",
    "\n",
    "print('Distribution of prediction error on test data:')\n",
    "predError = las.predict(X_test) - y_test\n",
    "plt.hist(predError)\n",
    "plt.show()"
   ]
  },
  {
   "cell_type": "code",
   "execution_count": null,
   "metadata": {
    "collapsed": true
   },
   "outputs": [],
   "source": []
  }
 ],
 "metadata": {
  "kernelspec": {
   "display_name": "Python 3",
   "language": "python",
   "name": "python3"
  },
  "language_info": {
   "codemirror_mode": {
    "name": "ipython",
    "version": 3
   },
   "file_extension": ".py",
   "mimetype": "text/x-python",
   "name": "python",
   "nbconvert_exporter": "python",
   "pygments_lexer": "ipython3",
   "version": "3.5.1"
  }
 },
 "nbformat": 4,
 "nbformat_minor": 0
}
